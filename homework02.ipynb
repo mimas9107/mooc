{
 "cells": [
  {
   "cell_type": "markdown",
   "metadata": {},
   "source": [
    "# 第一題【猜數字遊戲】"
   ]
  },
  {
   "cell_type": "code",
   "execution_count": 11,
   "metadata": {},
   "outputs": [
    {
     "name": "stdout",
     "output_type": "stream",
     "text": [
      "Guess what\"s the number: 1\n",
      "miss... Greater~\n",
      "Guess what\"s the number: 5\n",
      "miss... Greater~\n",
      "Guess what\"s the number: 9\n",
      "miss... Greater~\n",
      "Guess what\"s the number: 50\n",
      "miss... Greater~\n",
      "Guess what\"s the number: 80\n",
      "miss... lower~\n",
      "Guess what\"s the number: 6\n",
      "miss... Greater~\n",
      "Guess what\"s the number: 60\n",
      "miss... lower~\n",
      "Guess what\"s the number: 55\n",
      "miss... Greater~\n",
      "Guess what\"s the number: 57\n",
      "miss... Greater~\n",
      "Guess what\"s the number: 59\n",
      "miss... lower~\n",
      "Guess what\"s the number: 58\n",
      "***Correct!! The number that computer chosen is 58!***\n"
     ]
    },
    {
     "data": {
      "image/png": "[encoded data removed]",
      "text/plain": [
       "<matplotlib.figure.Figure at 0x6f750f0>"
      ]
     },
     "metadata": {},
     "output_type": "display_data"
    }
   ],
   "source": [
    "import numpy as np\n",
    "import matplotlib.pyplot as plt\n",
    "\n",
    "COM_NUM = np.random.randint(1,100)\n",
    "## print(COM_NUM)   ## 印出電腦取得的數字，測試用途。\n",
    "user_input_list=[]  ## 紀錄下使用者輸入過得數字，避免重複輸入同樣數字很蠢。\n",
    "\n",
    "userinput = 0\n",
    "\n",
    "while userinput != COM_NUM:\n",
    "    userinput = int(input('猜個數字唄: '))\n",
    "    if (userinput in user_input_list):\n",
    "        print('這數字 {} 你猜過了! 請再換個數字猜猜!'.format(userinput))\n",
    "    else:\n",
    "        if userinput > COM_NUM:\n",
    "            print('沒中... 低一點~')\n",
    "        elif userinput < COM_NUM:\n",
    "            print('沒中... 高一點~')\n",
    "        else:\n",
    "            print('***答對了!! {}!***'.format(COM_NUM))\n",
    "        user_input_list.append(userinput) ## 紀錄下使用者輸入過得數字\n",
    "        ##print(user_input_list)          ## 印出使用者輸入過得數字\n",
    "plt.figure(1)\n",
    "plt.plot(user_input_list,'bo-')\n",
    "plt.title('The answer history')\n",
    "plt.xlabel('times')\n",
    "plt.ylabel('number')\n",
    "plt.show()\n",
    "    "
   ]
  },
  {
   "cell_type": "markdown",
   "metadata": {},
   "source": [
    "# 第二題【感恩讚嘆機器人】"
   ]
  },
  {
   "cell_type": "code",
   "execution_count": 3,
   "metadata": {},
   "outputs": [
    {
     "name": "stdout",
     "output_type": "stream",
     "text": [
      "========讚嘆機歪人 v1==========\n",
      "請輸入你的名字>> 助教\n",
      "===歡迎來到讚嘆機器人聊天室====\n",
      ">> 改天一起去內湖喝茶再去南港吃魚吧!\n",
      "♥♥『感恩助教，讚嘆助教。』♥♥『感恩助教，讚嘆助教。』\n",
      ">> bye\n",
      "byebye 下回見!\n",
      "『感恩助教，讚嘆助教。』\n"
     ]
    }
   ],
   "source": [
    "print('========讚嘆機歪人 v1==========')\n",
    "name = input('請輸入你的名字>> ')\n",
    "print('===歡迎來到讚嘆機器人聊天室====')\n",
    "chat = \"\"\n",
    "while chat != \"bye\":\n",
    "    chat = input('>> ')\n",
    "    if (('吃魚' in chat) and ('喝茶' in chat)):\n",
    "        answer = \"♥♥『感恩{}，讚嘆{}。』♥♥\".format(name,name)\n",
    "        print(answer)\n",
    "    elif (('seafood' in chat) or ('炎龍' in chat)):\n",
    "        answer = \"『感恩{}，讚嘆{}。』\".format('炎龍','炎龍')\n",
    "        print(answer+'『感恩{}，讚嘆{}。』'.format(name,name))\n",
    "    elif ('fuck' in chat):\n",
    "        answer = \"炎龍說文明人不可以罵髒話喔! 『感恩{}，讚嘆{}。』\".format(name,name)\n",
    "        print(answer)\n",
    "    elif ('神經病' in chat):\n",
    "        print('你再說一次!\\o/')\n",
    "        chat2 = input('>>> ')\n",
    "        if ('神經病' in chat2):\n",
    "            print('你全家才神經病! 『感恩{}，讚嘆{}。』'.format(name,name))\n",
    "        else:\n",
    "            print('喔我聽錯了~『感恩{}，讚嘆{}。』'.format(name,name))\n",
    "        \n",
    "    else:\n",
    "        if (chat == 'bye'): print('byebye 下回見!')\n",
    "        print('『感恩{}，讚嘆{}。』'.format(name,name))\n"
   ]
  },
  {
   "cell_type": "markdown",
   "metadata": {},
   "source": [
    "# 第三題 【寫個函數讓字串倒過來排】"
   ]
  },
  {
   "cell_type": "code",
   "execution_count": 14,
   "metadata": {},
   "outputs": [
    {
     "name": "stdout",
     "output_type": "stream",
     "text": [
      "reverse()我不只可以吃字串, 還可以吃數字喔!\n",
      "5.321\n",
      "下面是 reverse2()做的\n",
      "5.4321\n",
      "!dlrow olleh\n"
     ]
    }
   ],
   "source": [
    "def reverse(strings):\n",
    "### This is the stupid version when the minus step of list was unknown...\n",
    "    j=k=l=0\n",
    "    cstr=str(strings)\n",
    "        \n",
    "    cstr2=''\n",
    "    tmp=list(cstr)\n",
    "    ## loop 1 count how many characters of the strings and get the string length\n",
    "    for ch in cstr:\n",
    "        j=j+1\n",
    "    ## loop 2 assign reversely into the tmp list\n",
    "    for ch in cstr:\n",
    "        tmp[k]=cstr[j-k-1]\n",
    "        k=k+1\n",
    "    ## loop 3 put each element of the tmp list into string\n",
    "    for ch in cstr:\n",
    "        cstr2=cstr2+tmp[l]\n",
    "        l=l+1\n",
    "    ##return the reversed string & string length\n",
    "    ##return cstr2,j\n",
    "    return cstr2\n",
    "    \n",
    "def reverse2(strings):\n",
    "## python power up!\n",
    "    return strings[::-1]\n",
    "\n",
    "print(reverse('!喔字數吃以可還 ,串字吃以可只不我)(esrever'))\n",
    "print(reverse(123.5))\n",
    "\n",
    "print('下面是 reverse2()做的')\n",
    "print(reverse2('1234.5'))\n",
    "print(reverse2('hello world!'))\n"
   ]
  },
  {
   "cell_type": "markdown",
   "metadata": {},
   "source": [
    "# 挑戰題一【天干地支】"
   ]
  },
  {
   "cell_type": "code",
   "execution_count": 1,
   "metadata": {},
   "outputs": [
    {
     "name": "stdout",
     "output_type": "stream",
     "text": [
      "2014是甲午年 \n",
      "2015是乙未年 \n",
      "2016是丙申年 \n",
      "2017是丁酉年 \n",
      "2018是戊戌年 \n",
      "2019是己亥年 \n",
      "2020是庚子年 \n",
      "2021是辛丑年 \n",
      "2022是壬寅年 \n",
      "2023是癸卯年 \n",
      "2024是甲辰年 \n",
      "2025是乙巳年 \n",
      "2026是丙午年 \n",
      "2027是丁未年 \n",
      "2028是戊申年 \n",
      "2029是己酉年 \n",
      "2030是庚戌年 \n",
      "2031是辛亥年 \n",
      "2032是壬子年 \n",
      "2033是癸丑年 \n",
      "2034是甲寅年 \n",
      "2035是乙卯年 \n",
      "2036是丙辰年 \n",
      "2037是丁巳年 \n",
      "2038是戊午年 \n",
      "2039是己未年 \n",
      "2040是庚申年 \n",
      "2041是辛酉年 \n",
      "2042是壬戌年 \n",
      "2043是癸亥年 \n",
      "2044是甲子年 \n",
      "2045是乙丑年 \n",
      "2046是丙寅年 \n",
      "2047是丁卯年 \n",
      "2048是戊辰年 \n",
      "2049是己巳年 \n",
      "2050是庚午年 \n",
      "2051是辛未年 \n",
      "2052是壬申年 \n",
      "2053是癸酉年 \n",
      "2054是甲戌年 \n",
      "2055是乙亥年 \n",
      "2056是丙子年 \n",
      "2057是丁丑年 \n",
      "2058是戊寅年 \n",
      "2059是己卯年 \n",
      "2060是庚辰年 \n",
      "2061是辛巳年 \n",
      "2062是壬午年 \n",
      "2063是癸未年 \n",
      "2064是甲申年 \n",
      "2065是乙酉年 \n",
      "2066是丙戌年 \n",
      "2067是丁亥年 \n",
      "2068是戊子年 \n",
      "2069是己丑年 \n",
      "2070是庚寅年 \n",
      "2071是辛卯年 \n",
      "2072是壬辰年 \n",
      "2073是癸巳年 \n"
     ]
    }
   ],
   "source": [
    "天干=list(\"甲乙丙丁戊己庚辛壬癸\")\n",
    "地支=list(\"子丑寅卯辰巳午未申酉戌亥\")\n",
    "years=list(range(2014,2074))\n",
    "\n",
    "for year in years:\n",
    "    print(\"{}年是{}{}年 \".format(year,天干[(year-4) % 10],地支[(year-4) % 12]))"
   ]
  },
  {
   "cell_type": "markdown",
   "metadata": {},
   "source": [
    "# 挑戰題二【我有一棵樹】"
   ]
  },
  {
   "cell_type": "code",
   "execution_count": 11,
   "metadata": {},
   "outputs": [
    {
     "name": "stdout",
     "output_type": "stream",
     "text": [
      "         *\n",
      "        ***\n",
      "       *****\n",
      "      *******\n",
      "     *********\n",
      "    ***********\n",
      "   *************\n",
      "  ***************\n",
      " *****************\n",
      "*******************\n"
     ]
    }
   ],
   "source": [
    "def tree(n):\n",
    "    level=list(range(1,n+1))   ##樹有幾層用 list來展開表示\n",
    "    leaf='*'                   ##樹葉\n",
    "    space=' '                  ##縮排\n",
    "    ## 第n層有 2 level[n]-1個樹葉\n",
    "    ## 第n層 有 n-level[n]個縮排可以加入使樹葉置中\n",
    "    \n",
    "    for m in level:\n",
    "        print(space*(n-m)+leaf*(2*m-1))\n",
    "\n",
    "    \n",
    "tree(10)    "
   ]
  },
  {
   "cell_type": "code",
   "execution_count": null,
   "metadata": {},
   "outputs": [],
   "source": []
  }
 ],
 "metadata": {
  "kernelspec": {
   "display_name": "Python 3",
   "language": "python",
   "name": "python3"
  },
  "language_info": {
   "codemirror_mode": {
    "name": "ipython",
    "version": 3
   },
   "file_extension": ".py",
   "mimetype": "text/x-python",
   "name": "python",
   "nbconvert_exporter": "python",
   "pygments_lexer": "ipython3",
   "version": "3.6.1"
  }
 },
 "nbformat": 4,
 "nbformat_minor": 2
}
