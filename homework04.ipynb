{
 "cells": [
  {
   "cell_type": "markdown",
   "metadata": {},
   "source": [
    "# 第一題：抽點系統\n",
    "\n",
    "老師想做一個抽點系統, 也就是按一個鍵就抽一位同學出來。某班同學有大雄、胖虎、小夫、宜靜、小杉。\n",
    "\n",
    "請幫老師寫個點名系統。"
   ]
  },
  {
   "cell_type": "code",
   "execution_count": 1,
   "metadata": {},
   "outputs": [
    {
     "name": "stdout",
     "output_type": "stream",
     "text": [
      "***** 點名系統 *****\n",
      "宜靜有來嗎? (y/n)y\n",
      "y\n"
     ]
    }
   ],
   "source": [
    "import numpy as np\n",
    "import matplotlib.pyplot as plt\n",
    "\n",
    "from ipywidgets import interact_manual\n",
    "\n",
    "students = ['大雄','胖虎','小夫','宜靜','小杉']\n",
    "students_dict = {'大雄':False,'胖虎':False,'小夫':False,'宜靜':False,'小杉':False}\n",
    "\n",
    "pick = np.random.choice(students)\n",
    "##print(pick)\n",
    "##print(students_dict[pick])\n",
    "ctrl=True\n",
    "while (ctrl == False):\n",
    "    print('***** 點名系統 *****')\n",
    "    select=input('{}有來嗎? (y/n)'.format(pick))\n",
    "    if (select == 'y' or select == 'Y'):\n",
    "        students_dict[pick]=True\n",
    "    elif (select == 'n' or slect == 'N'):\n",
    "        students_dict[pick]=False\n",
    "    \n",
    "            \n",
    "    ##print(select)\n"
   ]
  },
  {
   "cell_type": "code",
   "execution_count": null,
   "metadata": {},
   "outputs": [],
   "source": []
  },
  {
   "cell_type": "code",
   "execution_count": null,
   "metadata": {},
   "outputs": [],
   "source": []
  }
 ],
 "metadata": {
  "kernelspec": {
   "display_name": "Python 3",
   "language": "python",
   "name": "python3"
  },
  "language_info": {
   "codemirror_mode": {
    "name": "ipython",
    "version": 3
   },
   "file_extension": ".py",
   "mimetype": "text/x-python",
   "name": "python",
   "nbconvert_exporter": "python",
   "pygments_lexer": "ipython3",
   "version": "3.6.1"
  }
 },
 "nbformat": 4,
 "nbformat_minor": 2
}
