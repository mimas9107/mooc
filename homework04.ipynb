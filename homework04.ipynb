{
 "cells": [
  {
   "cell_type": "markdown",
   "metadata": {},
   "source": [
    "# 第一題：抽點系統\n",
    "\n",
    "老師想做一個抽點系統, 也就是按一個鍵就抽一位同學出來。某班同學有大雄、胖虎、小夫、宜靜、小杉。\n",
    "\n",
    "請幫老師寫個點名系統。"
   ]
  },
  {
   "cell_type": "code",
   "execution_count": null,
   "metadata": {},
   "outputs": [
    {
     "name": "stdout",
     "output_type": "stream",
     "text": [
      "===== 點名系統 =====\n",
      "胖虎有來嗎? (y/n)y\n"
     ]
    },
    {
     "data": {
      "application/vnd.jupyter.widget-view+json": {
       "model_id": "23bee99729ae4067854c6cb7c0bdce5b",
       "version_major": 2,
       "version_minor": 0
      },
      "text/html": [
       "<p>Failed to display Jupyter Widget of type <code>interactive</code>.</p>\n",
       "<p>\n",
       "  If you're reading this message in Jupyter Notebook or JupyterLab, it may mean\n",
       "  that the widgets JavaScript is still loading. If this message persists, it\n",
       "  likely means that the widgets JavaScript library is either not installed or\n",
       "  not enabled. See the <a href=\"https://ipywidgets.readthedocs.io/en/stable/user_install.html\">Jupyter\n",
       "  Widgets Documentation</a> for setup instructions.\n",
       "</p>\n",
       "<p>\n",
       "  If you're reading this message in another notebook frontend (for example, a static\n",
       "  rendering on GitHub or <a href=\"https://nbviewer.jupyter.org/\">NBViewer</a>),\n",
       "  it may mean that your frontend doesn't currently support widgets.\n",
       "</p>\n"
      ],
      "text/plain": [
       "interactive(children=(Checkbox(value=False, description='x'), Button(description='Run Interact', style=ButtonStyle()), Output()), _dom_classes=('widget-interact',))"
      ]
     },
     "metadata": {},
     "output_type": "display_data"
    },
    {
     "name": "stdout",
     "output_type": "stream",
     "text": [
      "繼續點名? (y/n)y\n",
      "{'大雄': False, '胖虎': <function f at 0x00000219F08E6F28>, '小夫': False, '宜靜': False, '小杉': False}\n",
      "===== 點名系統 =====\n",
      "大雄有來嗎? (y/n)n\n"
     ]
    },
    {
     "data": {
      "application/vnd.jupyter.widget-view+json": {
       "model_id": "29099a87ca1146fca2edaef2246b4ad1",
       "version_major": 2,
       "version_minor": 0
      },
      "text/html": [
       "<p>Failed to display Jupyter Widget of type <code>interactive</code>.</p>\n",
       "<p>\n",
       "  If you're reading this message in Jupyter Notebook or JupyterLab, it may mean\n",
       "  that the widgets JavaScript is still loading. If this message persists, it\n",
       "  likely means that the widgets JavaScript library is either not installed or\n",
       "  not enabled. See the <a href=\"https://ipywidgets.readthedocs.io/en/stable/user_install.html\">Jupyter\n",
       "  Widgets Documentation</a> for setup instructions.\n",
       "</p>\n",
       "<p>\n",
       "  If you're reading this message in another notebook frontend (for example, a static\n",
       "  rendering on GitHub or <a href=\"https://nbviewer.jupyter.org/\">NBViewer</a>),\n",
       "  it may mean that your frontend doesn't currently support widgets.\n",
       "</p>\n"
      ],
      "text/plain": [
       "interactive(children=(Checkbox(value=False, description='x'), Button(description='Run Interact', style=ButtonStyle()), Output()), _dom_classes=('widget-interact',))"
      ]
     },
     "metadata": {},
     "output_type": "display_data"
    }
   ],
   "source": [
    "import numpy as np\n",
    "import matplotlib.pyplot as plt\n",
    "\n",
    "from ipywidgets import interact_manual\n",
    "\n",
    "students = ['大雄','胖虎','小夫','宜靜','小杉']\n",
    "students_dict = {'大雄':False,'胖虎':False,'小夫':False,'宜靜':False,'小杉':False}\n",
    "\n",
    "attend = []\n",
    "noattend = []\n",
    "\n",
    "ctrl=True\n",
    "\n",
    "def f(x):\n",
    "    return x\n",
    "\n",
    "while (ctrl):\n",
    "    print('===== 點名系統 =====')\n",
    "    pick = np.random.choice(students)\n",
    "    \n",
    "    select=input('{}有來嗎? (y/n)'.format(pick))\n",
    "    if (select == 'y' or select == 'Y'):\n",
    "        students_dict[pick]=interact_manual(f,x=students_dict[pick])\n",
    "        \n",
    "        \n",
    "        students.remove(pick)\n",
    "        attend.append(pick)\n",
    "    elif (select == 'n' or slect == 'N'):\n",
    "        students_dict[pick]=interact_manual(f,x=students_dict[pick])\n",
    "        noattend.append(pick)\n",
    "    \n",
    "    continued=input('繼續點名? (y/n)')\n",
    "    if (continued == 'y' or continued =='Y'):\n",
    "        ctrl=True\n",
    "        print(students_dict)\n",
    "    elif (continued =='n' or continued =='N'):\n",
    "        ctrl=False\n",
    "        print('=====================')        \n",
    "\n",
    "    \n",
    "\n",
    "print('\\n有出席：',attend,'\\n未出席：',noattend)\n",
    "    ##print(select)\n"
   ]
  },
  {
   "cell_type": "code",
   "execution_count": null,
   "metadata": {},
   "outputs": [],
   "source": []
  },
  {
   "cell_type": "code",
   "execution_count": null,
   "metadata": {},
   "outputs": [],
   "source": []
  }
 ],
 "metadata": {
  "kernelspec": {
   "display_name": "Python 3",
   "language": "python",
   "name": "python3"
  },
  "language_info": {
   "codemirror_mode": {
    "name": "ipython",
    "version": 3
   },
   "file_extension": ".py",
   "mimetype": "text/x-python",
   "name": "python",
   "nbconvert_exporter": "python",
   "pygments_lexer": "ipython3",
   "version": "3.6.1"
  }
 },
 "nbformat": 4,
 "nbformat_minor": 2
}
