{
 "cells": [
  {
   "cell_type": "markdown",
   "metadata": {},
   "source": [
    "# 第一題：\n",
    "題目：給定一個矩陣m，裡面的值都大於0。\n",
    "請將矩陣m裡大於等於1的數字都變成1，小於1的變成0。"
   ]
  },
  {
   "cell_type": "code",
   "execution_count": 47,
   "metadata": {},
   "outputs": [
    {
     "name": "stdout",
     "output_type": "stream",
     "text": [
      "原矩陣： [[ 0  1 10]\n",
      " [ 2  6  7]]\n",
      "結果： [[ 0.  1.  1.]\n",
      " [ 1.  1.  1.]]\n"
     ]
    }
   ],
   "source": [
    "import numpy as np\n",
    "import matplotlib.pyplot as plt\n",
    "\n",
    "m = np.array([[0,1,10],[2,6,7]])\n",
    "m1= np.zeros((2,3))         ## 快速產空 2x3 matrix\n",
    "m1[m>=1]=1                  ## m1 依照 m0 matrix 各元素 >=1 填入1\n",
    "m1[m<0]=0                   ## m1 依照 m0 matrix 各元素 <0 填入0\n",
    "print('原矩陣：',m,)                        \n",
    "print('結果：',m1)\n"
   ]
  },
  {
   "cell_type": "markdown",
   "metadata": {},
   "source": [
    "# 第二題：\n",
    "有A,B,C三個班級，每班皆有10個學生，期中考結束後，老師希望計算各班級每位學生的加權平均成績。\n",
    " \n",
    "請隨機產生3個班級的成績單,每班10人,共五科,權重為weights=[0.25,0.25,0.25,0.15,0.10]。\n",
    "請算出班級加權平均成績，並以一個array輸出。"
   ]
  },
  {
   "cell_type": "code",
   "execution_count": 57,
   "metadata": {},
   "outputs": [
    {
     "name": "stdout",
     "output_type": "stream",
     "text": [
      "====個人加權成績===========\n",
      "A班 [ 34.9   68.7   32.45  34.8   53.05  63.05  36.7   65.65  35.45  61.95]\n",
      "B班 [ 58.3   55.35  38.75  75.25  51.7   56.85  34.4   49.85  40.6   26.5 ]\n",
      "C班 [ 70.7   45.    30.5   38.35  71.1   39.3   30.5   46.8   64.2   78.6 ]\n",
      "====班級平均成績===============\n",
      "[48.669999999999995, 48.75500000000001, 51.504999999999995]\n"
     ]
    }
   ],
   "source": [
    "studentsa=[[np.random.randint(0,101) for x in range(5)] for y in range(10)]\n",
    "studentsb=[[np.random.randint(0,101) for x in range(5)] for y in range(10)]\n",
    "studentsc=[[np.random.randint(0,101) for x in range(5)] for y in range(10)]\n",
    "weights=[0.25, 0.25,0.25,0.15,0.10]\n",
    "## 計算各班 每個學生的加權成績：\n",
    "classa_avg=np.dot(studentsa,weights)\n",
    "classb_avg=np.dot(studentsb,weights)\n",
    "classc_avg=np.dot(studentsc,weights)\n",
    "\n",
    "## 計算各班總平均：\n",
    "grades = [np.average(np.dot(studentsa,weights)),np.average(np.dot(studentsb,weights)),np.average(np.dot(studentsc,weights))]\n",
    "print('====個人加權成績===========')\n",
    "print('A班',classa_avg)\n",
    "print('B班',classb_avg)\n",
    "print('C班',classc_avg)\n",
    "print('====班級平均成績===============')\n",
    "print(grades)"
   ]
  },
  {
   "cell_type": "markdown",
   "metadata": {},
   "source": [
    "# 挑戰題一：\n",
    "請定義一個全班高微成績的函式，輸入是一個(3, 30, 3)的array，  \n",
    "表示3個班級中30位學生的成績(小考，期中考，期末考)  。\n",
    "\n",
    "目標輸出則是一個(3, 30, 1)的array，表示所有學生的期末成績，\n",
    "期末成績計算方式如下：\n",
    "\n",
    "1. 小考20%，期中考35%，期末考45%  \n",
    "2. 期中考40%，期末考60%。  \n",
    "擇優作為期末成績"
   ]
  },
  {
   "cell_type": "code",
   "execution_count": null,
   "metadata": {},
   "outputs": [],
   "source": []
  }
 ],
 "metadata": {
  "kernelspec": {
   "display_name": "Python 3",
   "language": "python",
   "name": "python3"
  },
  "language_info": {
   "codemirror_mode": {
    "name": "ipython",
    "version": 3
   },
   "file_extension": ".py",
   "mimetype": "text/x-python",
   "name": "python",
   "nbconvert_exporter": "python",
   "pygments_lexer": "ipython3",
   "version": "3.6.1"
  }
 },
 "nbformat": 4,
 "nbformat_minor": 2
}
